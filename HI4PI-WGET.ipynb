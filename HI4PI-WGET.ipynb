{
 "cells": [
  {
   "cell_type": "markdown",
   "metadata": {},
   "source": [
    "Glen Langston's Astropy test of the FITS cube tutorial\n"
   ]
  },
  {
   "cell_type": "markdown",
   "metadata": {},
   "source": [
    "Upload the Bonn HI4PI cube with 1.5degree resolution"
   ]
  },
  {
   "cell_type": "code",
   "execution_count": 2,
   "metadata": {},
   "outputs": [
    {
     "name": "stdout",
     "output_type": "stream",
     "text": [
      "/dlusers/glangsto\n",
      "DeltaV\t\tUntitled1.ipynb  glangsto   notebooks-latest\t       vospace\n",
      "HI4PI\t\tcython\t\t hi4pi\t    notebooks_20180911_212649\n",
      "Untitled.ipynb\tdot.jupyter\t notebooks  scratch\n"
     ]
    }
   ],
   "source": [
    "# first find out where we're writing the data\n",
    "!pwd\n",
    "# next see what files are present\n",
    "!ls"
   ]
  },
  {
   "cell_type": "code",
   "execution_count": 3,
   "metadata": {},
   "outputs": [
    {
     "name": "stdout",
     "output_type": "stream",
     "text": [
      "--2021-11-19 19:27:05--  ftp://ftp.mpifr-bonn.mpg.de/outgoing/bwinkel/hi4pi_1.5deg.fits\n",
      "           => 'hi4pi_1.5deg.fits'\n",
      "Resolving ftp.mpifr-bonn.mpg.de (ftp.mpifr-bonn.mpg.de)... 134.104.18.103\n",
      "Connecting to ftp.mpifr-bonn.mpg.de (ftp.mpifr-bonn.mpg.de)|134.104.18.103|:21... connected.\n",
      "Logging in as anonymous ... Logged in!\n",
      "==> SYST ... done.    ==> PWD ... done.\n",
      "==> TYPE I ... done.  ==> CWD (1) /outgoing/bwinkel ... done.\n",
      "==> SIZE hi4pi_1.5deg.fits ... 360086400\n",
      "==> PASV ... done.    ==> RETR hi4pi_1.5deg.fits ... done.\n",
      "Length: 360086400 (343M) (unauthoritative)\n",
      "\n",
      "100%[======================================>] 360,086,400 8.64MB/s   in 46s    \n",
      "\n",
      "2021-11-19 19:27:54 (7.39 MB/s) - 'hi4pi_1.5deg.fits' saved [360086400]\n",
      "\n"
     ]
    }
   ],
   "source": [
    "!wget ftp://ftp.mpifr-bonn.mpg.de/outgoing/bwinkel/hi4pi_1.5deg.fits\n",
    "    "
   ]
  },
  {
   "cell_type": "code",
   "execution_count": 5,
   "metadata": {},
   "outputs": [
    {
     "name": "stdout",
     "output_type": "stream",
     "text": [
      "DeltaV\t\t cython       hi4pi_1.5deg.fits\t\t scratch\n",
      "HI4PI\t\t dot.jupyter  notebooks\t\t\t vospace\n",
      "Untitled.ipynb\t glangsto     notebooks-latest\n",
      "Untitled1.ipynb  hi4pi\t      notebooks_20180911_212649\n",
      "/dlusers/glangsto\n"
     ]
    }
   ],
   "source": [
    "# now list the files again\n",
    "!ls\n",
    "# and which directory the files are in\n",
    "!pwd"
   ]
  },
  {
   "cell_type": "markdown",
   "metadata": {},
   "source": [
    "# Congratulations!\n",
    "\n",
    "### You've downloaded a beautiful, full-sky, image of the Milky Way."
   ]
  },
  {
   "cell_type": "code",
   "execution_count": null,
   "metadata": {},
   "outputs": [],
   "source": []
  }
 ],
 "metadata": {
  "kernelspec": {
   "display_name": "Python 3",
   "language": "python",
   "name": "python3"
  },
  "language_info": {
   "codemirror_mode": {
    "name": "ipython",
    "version": 3
   },
   "file_extension": ".py",
   "mimetype": "text/x-python",
   "name": "python",
   "nbconvert_exporter": "python",
   "pygments_lexer": "ipython3",
   "version": "3.8.8"
  }
 },
 "nbformat": 4,
 "nbformat_minor": 4
}
