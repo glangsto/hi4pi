{
 "cells": [
  {
   "cell_type": "markdown",
   "metadata": {},
   "source": [
    "Glen Langston's Astropy test of the FITS cube tutorial\n"
   ]
  },
  {
   "cell_type": "markdown",
   "metadata": {},
   "source": [
    "Upload the Bonn HI4PI cube with 1.5degree resolution"
   ]
  },
  {
   "cell_type": "code",
   "execution_count": 3,
   "metadata": {},
   "outputs": [
    {
     "name": "stdout",
     "output_type": "stream",
     "text": [
      "--2021-11-19 13:16:21--  ftp://ftp.mpifr-bonn.mpg.de/outgoing/bwinkel/hi4pi_1.5deg.fits\n",
      "           => ‘hi4pi_1.5deg.fits’\n",
      "Resolving ftp.mpifr-bonn.mpg.de... 134.104.18.103\n",
      "Connecting to ftp.mpifr-bonn.mpg.de|134.104.18.103|:21... connected.\n",
      "Logging in as anonymous ... Logged in!\n",
      "==> SYST ... done.    ==> PWD ... done.\n",
      "==> TYPE I ... done.  ==> CWD (1) /outgoing/bwinkel ... done.\n",
      "==> SIZE hi4pi_1.5deg.fits ... 360086400\n",
      "==> PASV ... done.    ==> RETR hi4pi_1.5deg.fits ... done.\n",
      "Length: 360086400 (343M) (unauthoritative)\n",
      "\n",
      "hi4pi_1.5deg.fits   100%[===================>] 343.40M  1.24MB/s    in 4m 43s  \n",
      "\n",
      "2021-11-19 13:21:07 (1.21 MB/s) - ‘hi4pi_1.5deg.fits’ saved [360086400]\n",
      "\n"
     ]
    }
   ],
   "source": [
    "!wget ftp://ftp.mpifr-bonn.mpg.de/outgoing/bwinkel/hi4pi_1.5deg.fits\n",
    "    "
   ]
  },
  {
   "cell_type": "markdown",
   "metadata": {},
   "source": [
    "# Congratulations, you've downloaded a beautiful, full-sky, image of the Milky Way."
   ]
  }
 ],
 "metadata": {
  "kernelspec": {
   "display_name": "Python 3 (ipykernel)",
   "language": "python",
   "name": "python3"
  },
  "language_info": {
   "codemirror_mode": {
    "name": "ipython",
    "version": 3
   },
   "file_extension": ".py",
   "mimetype": "text/x-python",
   "name": "python",
   "nbconvert_exporter": "python",
   "pygments_lexer": "ipython3",
   "version": "3.9.4"
  }
 },
 "nbformat": 4,
 "nbformat_minor": 4
}
