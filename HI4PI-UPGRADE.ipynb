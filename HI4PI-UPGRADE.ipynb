{
 "cells": [
  {
   "cell_type": "code",
   "execution_count": null,
   "id": "488a93ea-49f3-4d34-ab20-7f50f2924eaa",
   "metadata": {},
   "outputs": [],
   "source": [
    "# Sometimes the code stops working due to underlying code changes\n",
    "# at one point astropy needed an upgrade for other packages to work.  \n",
    "# add any package you think you need to upgrade here.\n",
    "#\n",
    "# Glen Langston - National Science Foundation - 2021 November 18"
   ]
  },
  {
   "cell_type": "code",
   "execution_count": 7,
   "id": "927bb5a7-1cda-4645-b87b-2b31d8a7508b",
   "metadata": {},
   "outputs": [
    {
     "name": "stdout",
     "output_type": "stream",
     "text": [
      "/bin/bash: pip: command not found\n"
     ]
    }
   ],
   "source": [
    "# first update pip3 itself\n",
    "! pip3 install --upgrade pip"
   ]
  },
  {
   "cell_type": "code",
   "execution_count": 2,
   "id": "a09315b1-8311-4937-93ee-ddfee957aba4",
   "metadata": {},
   "outputs": [
    {
     "data": {
      "text/plain": [
       "['/bin/bash: pip3: command not found']"
      ]
     },
     "execution_count": 2,
     "metadata": {},
     "output_type": "execute_result"
    }
   ],
   "source": [
    "!!pip3 install astropy --upgrade"
   ]
  },
  {
   "cell_type": "code",
   "execution_count": null,
   "id": "b8c9b411-ecd9-4cbf-a8a8-6be780f05f35",
   "metadata": {},
   "outputs": [],
   "source": []
  }
 ],
 "metadata": {
  "kernelspec": {
   "display_name": "Python 3",
   "language": "python",
   "name": "python3"
  },
  "language_info": {
   "codemirror_mode": {
    "name": "ipython",
    "version": 3
   },
   "file_extension": ".py",
   "mimetype": "text/x-python",
   "name": "python",
   "nbconvert_exporter": "python",
   "pygments_lexer": "ipython3",
   "version": "3.8.8"
  }
 },
 "nbformat": 4,
 "nbformat_minor": 5
}
