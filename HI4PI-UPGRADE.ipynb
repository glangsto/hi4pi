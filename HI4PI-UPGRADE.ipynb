{
 "cells": [
  {
   "cell_type": "code",
   "execution_count": 3,
   "id": "488a93ea-49f3-4d34-ab20-7f50f2924eaa",
   "metadata": {},
   "outputs": [],
   "source": [
    "# Sometimes the code stops working due to underlying code changes\n",
    "# at one point astropy needed an upgrade for other packages to work.  \n",
    "# add any package you think you need to upgrade here.\n",
    "#\n",
    "# Glen Langston - National Science Foundation - 2021 November 18"
   ]
  },
  {
   "cell_type": "code",
   "execution_count": 4,
   "id": "927bb5a7-1cda-4645-b87b-2b31d8a7508b",
   "metadata": {},
   "outputs": [
    {
     "data": {
      "text/plain": [
       "['DEPRECATION: Configuring installation scheme with distutils config files is deprecated and will no longer work in the near future. If you are using a Homebrew or Linuxbrew Python, please see discussion at https://github.com/Homebrew/homebrew-core/issues/76621',\n",
       " 'Requirement already satisfied: pip in /usr/local/lib/python3.9/site-packages (21.3.1)']"
      ]
     },
     "execution_count": 4,
     "metadata": {},
     "output_type": "execute_result"
    }
   ],
   "source": [
    "# first update pip3 itself\n",
    "!!pip3 install --upgrade pip"
   ]
  },
  {
   "cell_type": "code",
   "execution_count": 2,
   "id": "a09315b1-8311-4937-93ee-ddfee957aba4",
   "metadata": {},
   "outputs": [
    {
     "data": {
      "text/plain": [
       "['DEPRECATION: Configuring installation scheme with distutils config files is deprecated and will no longer work in the near future. If you are using a Homebrew or Linuxbrew Python, please see discussion at https://github.com/Homebrew/homebrew-core/issues/76621',\n",
       " 'Requirement already satisfied: astropy in /usr/local/lib/python3.9/site-packages (4.3.1)',\n",
       " 'Collecting astropy',\n",
       " '  Downloading astropy-5.0-cp39-cp39-macosx_10_9_x86_64.whl (6.9 MB)',\n",
       " 'Requirement already satisfied: packaging>=19.0 in /usr/local/lib/python3.9/site-packages (from astropy) (21.0)',\n",
       " 'Requirement already satisfied: numpy>=1.18 in /usr/local/lib/python3.9/site-packages (from astropy) (1.21.2)',\n",
       " 'Requirement already satisfied: pyerfa>=2.0 in /usr/local/lib/python3.9/site-packages (from astropy) (2.0.0)',\n",
       " 'Requirement already satisfied: PyYAML>=3.13 in /usr/local/lib/python3.9/site-packages (from astropy) (5.4.1)',\n",
       " 'Requirement already satisfied: pyparsing>=2.0.2 in /usr/local/lib/python3.9/site-packages (from packaging>=19.0->astropy) (2.4.7)',\n",
       " 'Installing collected packages: astropy',\n",
       " '  Attempting uninstall: astropy',\n",
       " '    Found existing installation: astropy 4.3.1',\n",
       " '    Uninstalling astropy-4.3.1:',\n",
       " '      Successfully uninstalled astropy-4.3.1',\n",
       " 'DEPRECATION: Configuring installation scheme with distutils config files is deprecated and will no longer work in the near future. If you are using a Homebrew or Linuxbrew Python, please see discussion at https://github.com/Homebrew/homebrew-core/issues/76621',\n",
       " 'Successfully installed astropy-5.0']"
      ]
     },
     "execution_count": 2,
     "metadata": {},
     "output_type": "execute_result"
    }
   ],
   "source": [
    "!!pip3 install astropy --upgrade"
   ]
  },
  {
   "cell_type": "code",
   "execution_count": null,
   "id": "b8c9b411-ecd9-4cbf-a8a8-6be780f05f35",
   "metadata": {},
   "outputs": [],
   "source": []
  }
 ],
 "metadata": {
  "kernelspec": {
   "display_name": "Python 3 (ipykernel)",
   "language": "python",
   "name": "python3"
  },
  "language_info": {
   "codemirror_mode": {
    "name": "ipython",
    "version": 3
   },
   "file_extension": ".py",
   "mimetype": "text/x-python",
   "name": "python",
   "nbconvert_exporter": "python",
   "pygments_lexer": "ipython3",
   "version": "3.9.4"
  }
 },
 "nbformat": 4,
 "nbformat_minor": 5
}
